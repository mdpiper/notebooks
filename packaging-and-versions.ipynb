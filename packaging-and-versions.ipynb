{
 "cells": [
  {
   "cell_type": "markdown",
   "id": "5c5aa321-44f3-40d4-a0f0-1107cf6be277",
   "metadata": {},
   "source": [
    "# Packaging and versions"
   ]
  },
  {
   "cell_type": "markdown",
   "id": "2ae19074-dc51-4549-bd09-f6e68b3a59ba",
   "metadata": {},
   "source": [
    "Import the deprecated *distutils.version* module\n",
    "and its successor *packaging.version*."
   ]
  },
  {
   "cell_type": "code",
   "execution_count": 1,
   "id": "060d19a4-18a9-459d-968a-a3099e008753",
   "metadata": {
    "tags": []
   },
   "outputs": [],
   "source": [
    "from packaging import version\n",
    "from distutils.version import StrictVersion"
   ]
  },
  {
   "cell_type": "markdown",
   "id": "d41e28c7-ece3-4bec-b33d-c70259aabb66",
   "metadata": {},
   "source": [
    "Make a version string."
   ]
  },
  {
   "cell_type": "code",
   "execution_count": 2,
   "id": "69b91948-efff-42ae-8e48-d5ef0ecf1a39",
   "metadata": {
    "tags": []
   },
   "outputs": [],
   "source": [
    "v = \"0.8.3\""
   ]
  },
  {
   "cell_type": "markdown",
   "id": "71dc893d-cbbe-47fa-acf9-7c16ee62033c",
   "metadata": {},
   "source": [
    "This is a statement from `registry.py`."
   ]
  },
  {
   "cell_type": "code",
   "execution_count": 3,
   "id": "c7c07843-d235-40b0-8fbc-06043695c5e6",
   "metadata": {
    "tags": []
   },
   "outputs": [
    {
     "data": {
      "text/plain": [
       "<re.Match object; span=(0, 5), match='0.8.3'>"
      ]
     },
     "execution_count": 3,
     "metadata": {},
     "output_type": "execute_result"
    }
   ],
   "source": [
    "StrictVersion.version_re.match(v)"
   ]
  },
  {
   "cell_type": "markdown",
   "id": "a6e2745d-0a89-49d7-ab2c-161e05bd386d",
   "metadata": {},
   "source": [
    "See what can be done with *packaging.version*."
   ]
  },
  {
   "cell_type": "code",
   "execution_count": 13,
   "id": "cf6f2594-578c-4f92-9ba4-c05ebfbc79e0",
   "metadata": {
    "tags": []
   },
   "outputs": [],
   "source": [
    "z = version.re.match(version.VERSION_PATTERN, v)\n",
    "z"
   ]
  },
  {
   "cell_type": "code",
   "execution_count": 17,
   "id": "e7e3f3e3-40f4-418e-a961-032423983f77",
   "metadata": {
    "tags": []
   },
   "outputs": [
    {
     "name": "stdout",
     "output_type": "stream",
     "text": [
      "\n",
      "    v?\n",
      "    (?:\n",
      "        (?:(?P<epoch>[0-9]+)!)?                           # epoch\n",
      "        (?P<release>[0-9]+(?:\\.[0-9]+)*)                  # release segment\n",
      "        (?P<pre>                                          # pre-release\n",
      "            [-_\\.]?\n",
      "            (?P<pre_l>(a|b|c|rc|alpha|beta|pre|preview))\n",
      "            [-_\\.]?\n",
      "            (?P<pre_n>[0-9]+)?\n",
      "        )?\n",
      "        (?P<post>                                         # post release\n",
      "            (?:-(?P<post_n1>[0-9]+))\n",
      "            |\n",
      "            (?:\n",
      "                [-_\\.]?\n",
      "                (?P<post_l>post|rev|r)\n",
      "                [-_\\.]?\n",
      "                (?P<post_n2>[0-9]+)?\n",
      "            )\n",
      "        )?\n",
      "        (?P<dev>                                          # dev release\n",
      "            [-_\\.]?\n",
      "            (?P<dev_l>dev)\n",
      "            [-_\\.]?\n",
      "            (?P<dev_n>[0-9]+)?\n",
      "        )?\n",
      "    )\n",
      "    (?:\\+(?P<local>[a-z0-9]+(?:[-_\\.][a-z0-9]+)*))?       # local version\n",
      "\n"
     ]
    }
   ],
   "source": [
    "print(version.VERSION_PATTERN)"
   ]
  },
  {
   "cell_type": "code",
   "execution_count": 7,
   "id": "618ee8c3-43f9-4708-9481-294f77daccce",
   "metadata": {
    "tags": []
   },
   "outputs": [
    {
     "data": {
      "text/plain": [
       "<Version('0.8.3')>"
      ]
     },
     "execution_count": 7,
     "metadata": {},
     "output_type": "execute_result"
    }
   ],
   "source": [
    "a = version.Version(v)\n",
    "a"
   ]
  },
  {
   "cell_type": "code",
   "execution_count": 8,
   "id": "49caa1f3-e3f3-4a06-998b-8aff277aa673",
   "metadata": {
    "tags": []
   },
   "outputs": [
    {
     "data": {
      "text/plain": [
       "<Version('0.8.3')>"
      ]
     },
     "execution_count": 8,
     "metadata": {},
     "output_type": "execute_result"
    }
   ],
   "source": [
    "b = version.parse(v)\n",
    "b"
   ]
  },
  {
   "cell_type": "code",
   "execution_count": 9,
   "id": "7894beb4-1e81-4fb4-954b-e04209e77d4c",
   "metadata": {
    "tags": []
   },
   "outputs": [
    {
     "ename": "InvalidVersion",
     "evalue": "Invalid version: '3e4'",
     "output_type": "error",
     "traceback": [
      "\u001b[0;31m---------------------------------------------------------------------------\u001b[0m",
      "\u001b[0;31mInvalidVersion\u001b[0m                            Traceback (most recent call last)",
      "Cell \u001b[0;32mIn[9], line 1\u001b[0m\n\u001b[0;32m----> 1\u001b[0m \u001b[43mversion\u001b[49m\u001b[38;5;241;43m.\u001b[39;49m\u001b[43mVersion\u001b[49m\u001b[43m(\u001b[49m\u001b[38;5;124;43m\"\u001b[39;49m\u001b[38;5;124;43m3e4\u001b[39;49m\u001b[38;5;124;43m\"\u001b[39;49m\u001b[43m)\u001b[49m\n",
      "File \u001b[0;32m/opt/tljh/user/envs/csdms/lib/python3.11/site-packages/packaging/version.py:198\u001b[0m, in \u001b[0;36mVersion.__init__\u001b[0;34m(self, version)\u001b[0m\n\u001b[1;32m    196\u001b[0m match \u001b[38;5;241m=\u001b[39m \u001b[38;5;28mself\u001b[39m\u001b[38;5;241m.\u001b[39m_regex\u001b[38;5;241m.\u001b[39msearch(version)\n\u001b[1;32m    197\u001b[0m \u001b[38;5;28;01mif\u001b[39;00m \u001b[38;5;129;01mnot\u001b[39;00m match:\n\u001b[0;32m--> 198\u001b[0m     \u001b[38;5;28;01mraise\u001b[39;00m InvalidVersion(\u001b[38;5;124mf\u001b[39m\u001b[38;5;124m\"\u001b[39m\u001b[38;5;124mInvalid version: \u001b[39m\u001b[38;5;124m'\u001b[39m\u001b[38;5;132;01m{\u001b[39;00mversion\u001b[38;5;132;01m}\u001b[39;00m\u001b[38;5;124m'\u001b[39m\u001b[38;5;124m\"\u001b[39m)\n\u001b[1;32m    200\u001b[0m \u001b[38;5;66;03m# Store the parsed out pieces of the version\u001b[39;00m\n\u001b[1;32m    201\u001b[0m \u001b[38;5;28mself\u001b[39m\u001b[38;5;241m.\u001b[39m_version \u001b[38;5;241m=\u001b[39m _Version(\n\u001b[1;32m    202\u001b[0m     epoch\u001b[38;5;241m=\u001b[39m\u001b[38;5;28mint\u001b[39m(match\u001b[38;5;241m.\u001b[39mgroup(\u001b[38;5;124m\"\u001b[39m\u001b[38;5;124mepoch\u001b[39m\u001b[38;5;124m\"\u001b[39m)) \u001b[38;5;28;01mif\u001b[39;00m match\u001b[38;5;241m.\u001b[39mgroup(\u001b[38;5;124m\"\u001b[39m\u001b[38;5;124mepoch\u001b[39m\u001b[38;5;124m\"\u001b[39m) \u001b[38;5;28;01melse\u001b[39;00m \u001b[38;5;241m0\u001b[39m,\n\u001b[1;32m    203\u001b[0m     release\u001b[38;5;241m=\u001b[39m\u001b[38;5;28mtuple\u001b[39m(\u001b[38;5;28mint\u001b[39m(i) \u001b[38;5;28;01mfor\u001b[39;00m i \u001b[38;5;129;01min\u001b[39;00m match\u001b[38;5;241m.\u001b[39mgroup(\u001b[38;5;124m\"\u001b[39m\u001b[38;5;124mrelease\u001b[39m\u001b[38;5;124m\"\u001b[39m)\u001b[38;5;241m.\u001b[39msplit(\u001b[38;5;124m\"\u001b[39m\u001b[38;5;124m.\u001b[39m\u001b[38;5;124m\"\u001b[39m)),\n\u001b[0;32m   (...)\u001b[0m\n\u001b[1;32m    209\u001b[0m     local\u001b[38;5;241m=\u001b[39m_parse_local_version(match\u001b[38;5;241m.\u001b[39mgroup(\u001b[38;5;124m\"\u001b[39m\u001b[38;5;124mlocal\u001b[39m\u001b[38;5;124m\"\u001b[39m)),\n\u001b[1;32m    210\u001b[0m )\n",
      "\u001b[0;31mInvalidVersion\u001b[0m: Invalid version: '3e4'"
     ]
    }
   ],
   "source": [
    "version.Version(\"3e4\")"
   ]
  },
  {
   "cell_type": "code",
   "execution_count": 10,
   "id": "7075878e-5beb-4d5e-a90f-9f2271cbd6a8",
   "metadata": {
    "tags": []
   },
   "outputs": [
    {
     "name": "stderr",
     "output_type": "stream",
     "text": [
      "/tmp/ipykernel_2422194/69205688.py:1: DeprecationWarning: distutils Version classes are deprecated. Use packaging.version instead.\n",
      "  x = StrictVersion(v)\n"
     ]
    },
    {
     "data": {
      "text/plain": [
       "StrictVersion ('0.8.3')"
      ]
     },
     "execution_count": 10,
     "metadata": {},
     "output_type": "execute_result"
    }
   ],
   "source": [
    "x = StrictVersion(v)\n",
    "x"
   ]
  },
  {
   "cell_type": "code",
   "execution_count": 11,
   "id": "5ffa7868-907d-488d-a641-9b664e880cdf",
   "metadata": {
    "tags": []
   },
   "outputs": [
    {
     "data": {
      "text/plain": [
       "distutils.version.StrictVersion"
      ]
     },
     "execution_count": 11,
     "metadata": {},
     "output_type": "execute_result"
    }
   ],
   "source": [
    "type(x)"
   ]
  },
  {
   "cell_type": "code",
   "execution_count": 18,
   "id": "10e392b4-b51e-46be-b8b4-df64f2405d5b",
   "metadata": {
    "tags": []
   },
   "outputs": [],
   "source": [
    "import importlib.resources"
   ]
  },
  {
   "cell_type": "code",
   "execution_count": 19,
   "id": "a740d9df-e910-447a-a03b-68bda86739f4",
   "metadata": {
    "tags": []
   },
   "outputs": [
    {
     "ename": "TypeError",
     "evalue": "Cannot instantiate typing.Union",
     "output_type": "error",
     "traceback": [
      "\u001b[0;31m---------------------------------------------------------------------------\u001b[0m",
      "\u001b[0;31mTypeError\u001b[0m                                 Traceback (most recent call last)",
      "Cell \u001b[0;32mIn[19], line 1\u001b[0m\n\u001b[0;32m----> 1\u001b[0m \u001b[43mimportlib\u001b[49m\u001b[38;5;241;43m.\u001b[39;49m\u001b[43mresources\u001b[49m\u001b[38;5;241;43m.\u001b[39;49m\u001b[43mPackage\u001b[49m\u001b[43m(\u001b[49m\u001b[38;5;124;43m\"\u001b[39;49m\u001b[38;5;124;43mpyyaml\u001b[39;49m\u001b[38;5;124;43m\"\u001b[39;49m\u001b[43m)\u001b[49m\n",
      "File \u001b[0;32m/opt/tljh/user/envs/csdms/lib/python3.11/typing.py:1255\u001b[0m, in \u001b[0;36m_BaseGenericAlias.__call__\u001b[0;34m(self, *args, **kwargs)\u001b[0m\n\u001b[1;32m   1252\u001b[0m \u001b[38;5;28;01mif\u001b[39;00m \u001b[38;5;129;01mnot\u001b[39;00m \u001b[38;5;28mself\u001b[39m\u001b[38;5;241m.\u001b[39m_inst:\n\u001b[1;32m   1253\u001b[0m     \u001b[38;5;28;01mraise\u001b[39;00m \u001b[38;5;167;01mTypeError\u001b[39;00m(\u001b[38;5;124mf\u001b[39m\u001b[38;5;124m\"\u001b[39m\u001b[38;5;124mType \u001b[39m\u001b[38;5;132;01m{\u001b[39;00m\u001b[38;5;28mself\u001b[39m\u001b[38;5;241m.\u001b[39m_name\u001b[38;5;132;01m}\u001b[39;00m\u001b[38;5;124m cannot be instantiated; \u001b[39m\u001b[38;5;124m\"\u001b[39m\n\u001b[1;32m   1254\u001b[0m                     \u001b[38;5;124mf\u001b[39m\u001b[38;5;124m\"\u001b[39m\u001b[38;5;124muse \u001b[39m\u001b[38;5;132;01m{\u001b[39;00m\u001b[38;5;28mself\u001b[39m\u001b[38;5;241m.\u001b[39m__origin__\u001b[38;5;241m.\u001b[39m\u001b[38;5;18m__name__\u001b[39m\u001b[38;5;132;01m}\u001b[39;00m\u001b[38;5;124m() instead\u001b[39m\u001b[38;5;124m\"\u001b[39m)\n\u001b[0;32m-> 1255\u001b[0m result \u001b[38;5;241m=\u001b[39m \u001b[38;5;28;43mself\u001b[39;49m\u001b[38;5;241;43m.\u001b[39;49m\u001b[43m__origin__\u001b[49m\u001b[43m(\u001b[49m\u001b[38;5;241;43m*\u001b[39;49m\u001b[43margs\u001b[49m\u001b[43m,\u001b[49m\u001b[43m \u001b[49m\u001b[38;5;241;43m*\u001b[39;49m\u001b[38;5;241;43m*\u001b[39;49m\u001b[43mkwargs\u001b[49m\u001b[43m)\u001b[49m\n\u001b[1;32m   1256\u001b[0m \u001b[38;5;28;01mtry\u001b[39;00m:\n\u001b[1;32m   1257\u001b[0m     result\u001b[38;5;241m.\u001b[39m__orig_class__ \u001b[38;5;241m=\u001b[39m \u001b[38;5;28mself\u001b[39m\n",
      "File \u001b[0;32m/opt/tljh/user/envs/csdms/lib/python3.11/typing.py:454\u001b[0m, in \u001b[0;36m_SpecialForm.__call__\u001b[0;34m(self, *args, **kwds)\u001b[0m\n\u001b[1;32m    453\u001b[0m \u001b[38;5;28;01mdef\u001b[39;00m \u001b[38;5;21m__call__\u001b[39m(\u001b[38;5;28mself\u001b[39m, \u001b[38;5;241m*\u001b[39margs, \u001b[38;5;241m*\u001b[39m\u001b[38;5;241m*\u001b[39mkwds):\n\u001b[0;32m--> 454\u001b[0m     \u001b[38;5;28;01mraise\u001b[39;00m \u001b[38;5;167;01mTypeError\u001b[39;00m(\u001b[38;5;124mf\u001b[39m\u001b[38;5;124m\"\u001b[39m\u001b[38;5;124mCannot instantiate \u001b[39m\u001b[38;5;132;01m{\u001b[39;00m\u001b[38;5;28mself\u001b[39m\u001b[38;5;132;01m!r}\u001b[39;00m\u001b[38;5;124m\"\u001b[39m)\n",
      "\u001b[0;31mTypeError\u001b[0m: Cannot instantiate typing.Union"
     ]
    }
   ],
   "source": [
    "importlib.resources.Package(\"pyyaml\")"
   ]
  },
  {
   "cell_type": "code",
   "execution_count": 20,
   "id": "dd90ef41-5a20-4a5a-8000-0aaf718b01db",
   "metadata": {
    "tags": []
   },
   "outputs": [],
   "source": [
    "from importlib.metadata import version as iversion"
   ]
  },
  {
   "cell_type": "code",
   "execution_count": 21,
   "id": "fae92e31-df17-4d81-a99e-24faacb0aba2",
   "metadata": {
    "tags": []
   },
   "outputs": [
    {
     "data": {
      "text/plain": [
       "'6.0'"
      ]
     },
     "execution_count": 21,
     "metadata": {},
     "output_type": "execute_result"
    }
   ],
   "source": [
    "iversion(\"pyyaml\")"
   ]
  },
  {
   "cell_type": "code",
   "execution_count": null,
   "id": "7ffb76fa-d607-40a6-b7df-1489c0ef6262",
   "metadata": {},
   "outputs": [],
   "source": []
  }
 ],
 "metadata": {
  "kernelspec": {
   "display_name": "CSDMS",
   "language": "python",
   "name": "csdms"
  },
  "language_info": {
   "codemirror_mode": {
    "name": "ipython",
    "version": 3
   },
   "file_extension": ".py",
   "mimetype": "text/x-python",
   "name": "python",
   "nbconvert_exporter": "python",
   "pygments_lexer": "ipython3",
   "version": "3.11.3"
  }
 },
 "nbformat": 4,
 "nbformat_minor": 5
}
