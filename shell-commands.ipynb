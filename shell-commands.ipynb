{
 "cells": [
  {
   "cell_type": "markdown",
   "metadata": {},
   "source": [
    "# Shell commands"
   ]
  },
  {
   "cell_type": "markdown",
   "metadata": {},
   "source": [
    "Examples of using shell commands in a Jupyter Notebook. On Linux."
   ]
  },
  {
   "cell_type": "code",
   "execution_count": 1,
   "metadata": {},
   "outputs": [
    {
     "data": {
      "text/plain": [
       "'/home/jupyter-mpiper/projects/notebooks'"
      ]
     },
     "execution_count": 1,
     "metadata": {},
     "output_type": "execute_result"
    }
   ],
   "source": [
    "pwd"
   ]
  },
  {
   "cell_type": "code",
   "execution_count": 2,
   "metadata": {},
   "outputs": [
    {
     "name": "stdout",
     "output_type": "stream",
     "text": [
      "LICENSE    \u001b[0m\u001b[01;34mdata\u001b[0m/               read-cgns.ipynb\r\n",
      "README.md  ordered-dict.ipynb  shell-commands.ipynb\r\n"
     ]
    }
   ],
   "source": [
    "ls"
   ]
  },
  {
   "cell_type": "code",
   "execution_count": 3,
   "metadata": {},
   "outputs": [
    {
     "name": "stdout",
     "output_type": "stream",
     "text": [
      "/home/jupyter-mpiper/projects\n"
     ]
    }
   ],
   "source": [
    "cd .."
   ]
  },
  {
   "cell_type": "code",
   "execution_count": 4,
   "metadata": {},
   "outputs": [
    {
     "name": "stdout",
     "output_type": "stream",
     "text": [
      "/home/jupyter-mpiper/projects/notebooks\n"
     ]
    }
   ],
   "source": [
    "cd -"
   ]
  },
  {
   "cell_type": "code",
   "execution_count": 5,
   "metadata": {},
   "outputs": [
    {
     "name": "stdout",
     "output_type": "stream",
     "text": [
      "/home/jupyter-mpiper\n"
     ]
    },
    {
     "data": {
      "text/plain": [
       "['~/projects/notebooks']"
      ]
     },
     "execution_count": 5,
     "metadata": {},
     "output_type": "execute_result"
    }
   ],
   "source": [
    "pushd ~"
   ]
  },
  {
   "cell_type": "code",
   "execution_count": 6,
   "metadata": {},
   "outputs": [
    {
     "data": {
      "text/plain": [
       "['~/projects/notebooks']"
      ]
     },
     "execution_count": 6,
     "metadata": {},
     "output_type": "execute_result"
    }
   ],
   "source": [
    "dirs -v"
   ]
  },
  {
   "cell_type": "code",
   "execution_count": 7,
   "metadata": {},
   "outputs": [
    {
     "data": {
      "text/plain": [
       "'/home/jupyter-mpiper'"
      ]
     },
     "execution_count": 7,
     "metadata": {},
     "output_type": "execute_result"
    }
   ],
   "source": [
    "pwd"
   ]
  },
  {
   "cell_type": "code",
   "execution_count": 8,
   "metadata": {},
   "outputs": [
    {
     "name": "stdout",
     "output_type": "stream",
     "text": [
      "/home/jupyter-mpiper/projects/notebooks\n",
      "popd -> ~/projects/notebooks\n"
     ]
    }
   ],
   "source": [
    "popd"
   ]
  },
  {
   "cell_type": "code",
   "execution_count": 9,
   "metadata": {},
   "outputs": [
    {
     "ename": "SyntaxError",
     "evalue": "invalid syntax (<ipython-input-9-597708dad31f>, line 1)",
     "output_type": "error",
     "traceback": [
      "\u001b[0;36m  File \u001b[0;32m\"<ipython-input-9-597708dad31f>\"\u001b[0;36m, line \u001b[0;32m1\u001b[0m\n\u001b[0;31m    grep -r python .\u001b[0m\n\u001b[0m                 ^\u001b[0m\n\u001b[0;31mSyntaxError\u001b[0m\u001b[0;31m:\u001b[0m invalid syntax\n"
     ]
    }
   ],
   "source": [
    "grep -r python ."
   ]
  },
  {
   "cell_type": "code",
   "execution_count": 10,
   "metadata": {},
   "outputs": [
    {
     "name": "stdout",
     "output_type": "stream",
     "text": [
      "./shell-commands.ipynb:   \"language\": \"python\",\r\n",
      "./shell-commands.ipynb:   \"name\": \"python3\"\r\n",
      "./shell-commands.ipynb:    \"name\": \"ipython\",\r\n",
      "./shell-commands.ipynb:   \"mimetype\": \"text/x-python\",\r\n",
      "./shell-commands.ipynb:   \"name\": \"python\",\r\n",
      "./shell-commands.ipynb:   \"nbconvert_exporter\": \"python\",\r\n",
      "./shell-commands.ipynb:   \"pygments_lexer\": \"ipython3\",\r\n",
      "./read-cgns.ipynb:   \"language\": \"python\",\r\n",
      "./read-cgns.ipynb:   \"name\": \"python3\"\r\n",
      "./read-cgns.ipynb:    \"name\": \"ipython\",\r\n",
      "./read-cgns.ipynb:   \"mimetype\": \"text/x-python\",\r\n",
      "./read-cgns.ipynb:   \"name\": \"python\",\r\n",
      "./read-cgns.ipynb:   \"nbconvert_exporter\": \"python\",\r\n",
      "./read-cgns.ipynb:   \"pygments_lexer\": \"ipython3\",\r\n",
      "./ordered-dict.ipynb:    \"Experiment with the [OrderedDict](https://docs.python.org/3/library/collections.html#collections.OrderedDict) container.\"\r\n",
      "./ordered-dict.ipynb:   \"language\": \"python\",\r\n",
      "./ordered-dict.ipynb:   \"name\": \"python3\"\r\n",
      "./ordered-dict.ipynb:    \"name\": \"ipython\",\r\n",
      "./ordered-dict.ipynb:   \"mimetype\": \"text/x-python\",\r\n",
      "./ordered-dict.ipynb:   \"name\": \"python\",\r\n",
      "./ordered-dict.ipynb:   \"nbconvert_exporter\": \"python\",\r\n",
      "./ordered-dict.ipynb:   \"pygments_lexer\": \"ipython3\",\r\n",
      "./.gitignore:#  Usually these files are written by a python script from a template\r\n",
      "./.gitignore:.python-version\r\n",
      "./.ipynb_checkpoints/shell-commands-checkpoint.ipynb:   \"language\": \"python\",\r\n",
      "./.ipynb_checkpoints/shell-commands-checkpoint.ipynb:   \"name\": \"python3\"\r\n",
      "./.ipynb_checkpoints/shell-commands-checkpoint.ipynb:    \"name\": \"ipython\",\r\n",
      "./.ipynb_checkpoints/shell-commands-checkpoint.ipynb:   \"mimetype\": \"text/x-python\",\r\n",
      "./.ipynb_checkpoints/shell-commands-checkpoint.ipynb:   \"name\": \"python\",\r\n",
      "./.ipynb_checkpoints/shell-commands-checkpoint.ipynb:   \"nbconvert_exporter\": \"python\",\r\n",
      "./.ipynb_checkpoints/shell-commands-checkpoint.ipynb:   \"pygments_lexer\": \"ipython3\",\r\n"
     ]
    }
   ],
   "source": [
    "!grep -r python ."
   ]
  },
  {
   "cell_type": "code",
   "execution_count": null,
   "metadata": {},
   "outputs": [],
   "source": []
  }
 ],
 "metadata": {
  "kernelspec": {
   "display_name": "Python 3",
   "language": "python",
   "name": "python3"
  },
  "language_info": {
   "codemirror_mode": {
    "name": "ipython",
    "version": 3
   },
   "file_extension": ".py",
   "mimetype": "text/x-python",
   "name": "python",
   "nbconvert_exporter": "python",
   "pygments_lexer": "ipython3",
   "version": "3.6.10"
  }
 },
 "nbformat": 4,
 "nbformat_minor": 2
}
