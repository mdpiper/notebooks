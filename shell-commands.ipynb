{
 "cells": [
  {
   "cell_type": "markdown",
   "metadata": {},
   "source": [
    "# Shell commands"
   ]
  },
  {
   "cell_type": "markdown",
   "metadata": {},
   "source": [
    "Examples of using shell commands in a Jupyter Notebook.\n",
    "Tested on Linux, macOS, and Windows."
   ]
  },
  {
   "cell_type": "code",
   "execution_count": 1,
   "metadata": {},
   "outputs": [
    {
     "data": {
      "text/plain": [
       "'C:\\\\Users\\\\Mark\\\\projects\\\\notebooks'"
      ]
     },
     "execution_count": 1,
     "metadata": {},
     "output_type": "execute_result"
    }
   ],
   "source": [
    "pwd"
   ]
  },
  {
   "cell_type": "code",
   "execution_count": 2,
   "metadata": {},
   "outputs": [
    {
     "name": "stdout",
     "output_type": "stream",
     "text": [
      " Volume in drive C has no label.\n",
      " Volume Serial Number is 9EC5-BF75\n",
      "\n",
      " Directory of C:\\Users\\Mark\\projects\\notebooks\n",
      "\n",
      "07/20/2020  02:38 PM    <DIR>          .\n",
      "07/20/2020  02:38 PM    <DIR>          ..\n",
      "07/20/2020  02:30 PM             1,307 .gitignore\n",
      "07/20/2020  02:33 PM    <DIR>          .ipynb_checkpoints\n",
      "07/20/2020  02:30 PM    <DIR>          data\n",
      "07/20/2020  02:30 PM             1,088 LICENSE\n",
      "07/20/2020  02:30 PM             4,170 ordered-dict.ipynb\n",
      "07/20/2020  02:30 PM            25,191 read-cgns.ipynb\n",
      "07/20/2020  02:30 PM                52 README.md\n",
      "07/20/2020  02:37 PM             5,577 shell-commands.ipynb\n",
      "               6 File(s)         37,385 bytes\n",
      "               4 Dir(s)  191,671,140,352 bytes free\n"
     ]
    }
   ],
   "source": [
    "ls"
   ]
  },
  {
   "cell_type": "code",
   "execution_count": 3,
   "metadata": {},
   "outputs": [
    {
     "name": "stdout",
     "output_type": "stream",
     "text": [
      "C:\\Users\\Mark\\projects\n"
     ]
    }
   ],
   "source": [
    "cd .."
   ]
  },
  {
   "cell_type": "code",
   "execution_count": 4,
   "metadata": {},
   "outputs": [
    {
     "name": "stdout",
     "output_type": "stream",
     "text": [
      "C:\\Users\\Mark\\projects\\notebooks\n"
     ]
    }
   ],
   "source": [
    "cd -"
   ]
  },
  {
   "cell_type": "code",
   "execution_count": 5,
   "metadata": {},
   "outputs": [
    {
     "name": "stdout",
     "output_type": "stream",
     "text": [
      "C:\\Users\\Mark\n"
     ]
    },
    {
     "data": {
      "text/plain": [
       "['~\\\\projects\\\\notebooks']"
      ]
     },
     "execution_count": 5,
     "metadata": {},
     "output_type": "execute_result"
    }
   ],
   "source": [
    "pushd ~"
   ]
  },
  {
   "cell_type": "code",
   "execution_count": 6,
   "metadata": {},
   "outputs": [
    {
     "data": {
      "text/plain": [
       "['~\\\\projects\\\\notebooks']"
      ]
     },
     "execution_count": 6,
     "metadata": {},
     "output_type": "execute_result"
    }
   ],
   "source": [
    "dirs -v"
   ]
  },
  {
   "cell_type": "code",
   "execution_count": 7,
   "metadata": {},
   "outputs": [
    {
     "data": {
      "text/plain": [
       "'C:\\\\Users\\\\Mark'"
      ]
     },
     "execution_count": 7,
     "metadata": {},
     "output_type": "execute_result"
    }
   ],
   "source": [
    "pwd"
   ]
  },
  {
   "cell_type": "code",
   "execution_count": 8,
   "metadata": {},
   "outputs": [
    {
     "name": "stdout",
     "output_type": "stream",
     "text": [
      "C:\\Users\\Mark\\projects\\notebooks\n",
      "popd -> ~\\projects\\notebooks\n"
     ]
    }
   ],
   "source": [
    "popd"
   ]
  },
  {
   "cell_type": "code",
   "execution_count": 9,
   "metadata": {},
   "outputs": [
    {
     "ename": "SyntaxError",
     "evalue": "invalid syntax (<ipython-input-9-ac4b7107eab5>, line 1)",
     "output_type": "error",
     "traceback": [
      "\u001b[1;36m  File \u001b[1;32m\"<ipython-input-9-ac4b7107eab5>\"\u001b[1;36m, line \u001b[1;32m1\u001b[0m\n\u001b[1;33m    grep -r import .\u001b[0m\n\u001b[1;37m                 ^\u001b[0m\n\u001b[1;31mSyntaxError\u001b[0m\u001b[1;31m:\u001b[0m invalid syntax\n"
     ]
    }
   ],
   "source": [
    "grep -r import ."
   ]
  },
  {
   "cell_type": "code",
   "execution_count": 10,
   "metadata": {},
   "outputs": [
    {
     "name": "stdout",
     "output_type": "stream",
     "text": [
      "./.git/hooks/pre-rebase.sample:    Then you can delete it.  More importantly, you should not\n",
      "./ordered-dict.ipynb:    \"from collections import OrderedDict\"\n",
      "./read-cgns.ipynb:    \"import h5py\\n\",\n",
      "./read-cgns.ipynb:    \"import numpy as np\\n\",\n",
      "./read-cgns.ipynb:    \"import matplotlib.pyplot as plt\"\n",
      "./shell-commands.ipynb:    \"grep -r import .\"\n",
      "./shell-commands.ipynb:      \"./read-cgns.ipynb:    \\\"import numpy as np\\\\n\\\",\\n\"\n",
      "./shell-commands.ipynb:    \"!grep -r import .\"\n"
     ]
    }
   ],
   "source": [
    "!grep -r import ."
   ]
  },
  {
   "cell_type": "code",
   "execution_count": 11,
   "metadata": {},
   "outputs": [
    {
     "name": "stdout",
     "output_type": "stream",
     "text": [
      "./.ipynb_checkpoints/shell-commands-checkpoint.ipynb\n",
      "./ordered-dict.ipynb\n",
      "./read-cgns.ipynb\n",
      "./shell-commands.ipynb\n"
     ]
    }
   ],
   "source": [
    "!find . -iname \"*.ipynb\""
   ]
  },
  {
   "cell_type": "code",
   "execution_count": null,
   "metadata": {},
   "outputs": [],
   "source": []
  }
 ],
 "metadata": {
  "kernelspec": {
   "display_name": "Python 3",
   "language": "python",
   "name": "python3"
  },
  "language_info": {
   "codemirror_mode": {
    "name": "ipython",
    "version": 3
   },
   "file_extension": ".py",
   "mimetype": "text/x-python",
   "name": "python",
   "nbconvert_exporter": "python",
   "pygments_lexer": "ipython3",
   "version": "3.7.3"
  }
 },
 "nbformat": 4,
 "nbformat_minor": 2
}
