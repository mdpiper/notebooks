{
 "cells": [
  {
   "cell_type": "markdown",
   "id": "a9d7e6c6-3473-4a15-8a63-8f402e5b7be7",
   "metadata": {},
   "source": [
    "# Shapes and slices of nD arrays"
   ]
  },
  {
   "cell_type": "code",
   "execution_count": 1,
   "id": "07d4c4fb-73b0-492f-959a-f028b2993d5f",
   "metadata": {},
   "outputs": [],
   "source": [
    "import numpy as np"
   ]
  },
  {
   "cell_type": "code",
   "execution_count": 2,
   "id": "14d9f626-88b3-434c-a9e1-ec666b39dfbb",
   "metadata": {},
   "outputs": [],
   "source": [
    "n_rows = 4\n",
    "n_cols = 5"
   ]
  },
  {
   "cell_type": "code",
   "execution_count": 3,
   "id": "4e7d03b3-168c-40b1-8de9-8693e623a07c",
   "metadata": {},
   "outputs": [
    {
     "data": {
      "text/plain": [
       "array([ 0,  1,  2,  3,  4,  5,  6,  7,  8,  9, 10, 11, 12, 13, 14, 15, 16,\n",
       "       17, 18, 19])"
      ]
     },
     "execution_count": 3,
     "metadata": {},
     "output_type": "execute_result"
    }
   ],
   "source": [
    "a = np.arange(n_rows*n_cols)\n",
    "a"
   ]
  },
  {
   "cell_type": "code",
   "execution_count": 4,
   "id": "ad67cb90-419f-4288-8c9d-af6e8d39d382",
   "metadata": {},
   "outputs": [
    {
     "data": {
      "text/plain": [
       "array([[ 0,  1,  2,  3,  4],\n",
       "       [ 5,  6,  7,  8,  9],\n",
       "       [10, 11, 12, 13, 14],\n",
       "       [15, 16, 17, 18, 19]])"
      ]
     },
     "execution_count": 4,
     "metadata": {},
     "output_type": "execute_result"
    }
   ],
   "source": [
    "b = a.reshape(n_rows, n_cols)\n",
    "b"
   ]
  },
  {
   "cell_type": "code",
   "execution_count": 13,
   "id": "19807f2f-9038-431e-934d-3a3b3a8bb092",
   "metadata": {},
   "outputs": [
    {
     "data": {
      "text/plain": [
       "(4, 5)"
      ]
     },
     "execution_count": 13,
     "metadata": {},
     "output_type": "execute_result"
    }
   ],
   "source": [
    "b.shape"
   ]
  },
  {
   "cell_type": "markdown",
   "id": "9b3ad032-034d-4e8e-abe1-89b30fb5993b",
   "metadata": {},
   "source": [
    "What are the values in the first column?"
   ]
  },
  {
   "cell_type": "code",
   "execution_count": 5,
   "id": "009f07e2-aa47-4df2-97a0-1ebcbc0511b8",
   "metadata": {},
   "outputs": [
    {
     "data": {
      "text/plain": [
       "array([ 0,  5, 10, 15])"
      ]
     },
     "execution_count": 5,
     "metadata": {},
     "output_type": "execute_result"
    }
   ],
   "source": [
    "b[:,0]"
   ]
  },
  {
   "cell_type": "markdown",
   "id": "1850d46b-776e-43db-82d7-b620660a3d2f",
   "metadata": {},
   "source": [
    "What are the values in the first row?"
   ]
  },
  {
   "cell_type": "code",
   "execution_count": 6,
   "id": "cd1c8689-80d2-40cf-861e-dfbb85519992",
   "metadata": {},
   "outputs": [
    {
     "data": {
      "text/plain": [
       "array([0, 1, 2, 3, 4])"
      ]
     },
     "execution_count": 6,
     "metadata": {},
     "output_type": "execute_result"
    }
   ],
   "source": [
    "b[0,:]"
   ]
  },
  {
   "cell_type": "markdown",
   "id": "3846f964-e6e7-4045-bafa-a65ac63e926a",
   "metadata": {},
   "source": [
    "Can we make a 3D array?"
   ]
  },
  {
   "cell_type": "code",
   "execution_count": 7,
   "id": "a5f44781-e926-4329-96b7-0aae4ff38720",
   "metadata": {},
   "outputs": [],
   "source": [
    "nx = 4\n",
    "ny = 3\n",
    "nz = 2"
   ]
  },
  {
   "cell_type": "code",
   "execution_count": 8,
   "id": "34a96cab-e326-4176-8c28-1c4cedcc1e5b",
   "metadata": {},
   "outputs": [
    {
     "data": {
      "text/plain": [
       "array([ 0,  1,  2,  3,  4,  5,  6,  7,  8,  9, 10, 11, 12, 13, 14, 15, 16,\n",
       "       17, 18, 19, 20, 21, 22, 23])"
      ]
     },
     "execution_count": 8,
     "metadata": {},
     "output_type": "execute_result"
    }
   ],
   "source": [
    "c = np.arange(nx*ny*nz)\n",
    "c"
   ]
  },
  {
   "cell_type": "code",
   "execution_count": 12,
   "id": "73f7a922-19cb-404c-b050-13daa97d7464",
   "metadata": {},
   "outputs": [
    {
     "data": {
      "text/plain": [
       "(24,)"
      ]
     },
     "execution_count": 12,
     "metadata": {},
     "output_type": "execute_result"
    }
   ],
   "source": [
    "c.shape"
   ]
  },
  {
   "cell_type": "code",
   "execution_count": 9,
   "id": "5018e6c5-dbd2-4bde-ae70-53609ccbd522",
   "metadata": {},
   "outputs": [
    {
     "data": {
      "text/plain": [
       "array([[[ 0,  1,  2,  3],\n",
       "        [ 4,  5,  6,  7],\n",
       "        [ 8,  9, 10, 11]],\n",
       "\n",
       "       [[12, 13, 14, 15],\n",
       "        [16, 17, 18, 19],\n",
       "        [20, 21, 22, 23]]])"
      ]
     },
     "execution_count": 9,
     "metadata": {},
     "output_type": "execute_result"
    }
   ],
   "source": [
    "d = c.reshape(nz, ny, nx)\n",
    "d"
   ]
  },
  {
   "cell_type": "code",
   "execution_count": 11,
   "id": "4b47db69-d201-419d-93f1-4b855853443a",
   "metadata": {},
   "outputs": [
    {
     "data": {
      "text/plain": [
       "(2, 3, 4)"
      ]
     },
     "execution_count": 11,
     "metadata": {},
     "output_type": "execute_result"
    }
   ],
   "source": [
    "d.shape"
   ]
  },
  {
   "cell_type": "code",
   "execution_count": null,
   "id": "b447207f-9979-43b5-a46b-dedbeb81e677",
   "metadata": {},
   "outputs": [],
   "source": []
  }
 ],
 "metadata": {
  "kernelspec": {
   "display_name": "Ivy",
   "language": "python",
   "name": "ivy"
  },
  "language_info": {
   "codemirror_mode": {
    "name": "ipython",
    "version": 3
   },
   "file_extension": ".py",
   "mimetype": "text/x-python",
   "name": "python",
   "nbconvert_exporter": "python",
   "pygments_lexer": "ipython3",
   "version": "3.11.0"
  }
 },
 "nbformat": 4,
 "nbformat_minor": 5
}
