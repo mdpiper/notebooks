{
 "cells": [
  {
   "cell_type": "markdown",
   "id": "7a19a461-7ad6-4dbc-8086-b9e307437dd0",
   "metadata": {},
   "source": [
    "# Unpacking a list"
   ]
  },
  {
   "cell_type": "code",
   "execution_count": 1,
   "id": "1d4cb978-d95e-49e6-a558-c4d063baf39f",
   "metadata": {
    "tags": []
   },
   "outputs": [],
   "source": [
    "requirements = [\n",
    "    \"bmif\",\n",
    "    \"heatf\",\n",
    "    \"bmiheatf\",\n",
    "]"
   ]
  },
  {
   "cell_type": "code",
   "execution_count": 2,
   "id": "b9310660-5133-4716-8ab4-17a6f9228dc7",
   "metadata": {
    "tags": []
   },
   "outputs": [
    {
     "name": "stdout",
     "output_type": "stream",
     "text": [
      "bmif\n",
      "heatf\n",
      "bmiheatf\n"
     ]
    }
   ],
   "source": [
    "for item in requirements:\n",
    "    print(item)"
   ]
  },
  {
   "cell_type": "code",
   "execution_count": 3,
   "id": "9de66db5-263a-41e5-baf5-6aa6c69bc794",
   "metadata": {
    "tags": []
   },
   "outputs": [],
   "source": [
    "requirements_str = \"bmif,heatf,bmiheatf\""
   ]
  },
  {
   "cell_type": "code",
   "execution_count": 4,
   "id": "50446d53-d581-4cbc-8ff6-fb62da05ac5c",
   "metadata": {
    "tags": []
   },
   "outputs": [
    {
     "data": {
      "text/plain": [
       "'bmif,heatf,bmiheatf'"
      ]
     },
     "execution_count": 4,
     "metadata": {},
     "output_type": "execute_result"
    }
   ],
   "source": [
    "requirements_str"
   ]
  },
  {
   "cell_type": "code",
   "execution_count": 5,
   "id": "25ef1540-aaeb-477b-ac59-0f9dca842e84",
   "metadata": {
    "tags": []
   },
   "outputs": [
    {
     "name": "stdout",
     "output_type": "stream",
     "text": [
      "b\n",
      "m\n",
      "i\n",
      "f\n",
      ",\n",
      "h\n",
      "e\n",
      "a\n",
      "t\n",
      "f\n",
      ",\n",
      "b\n",
      "m\n",
      "i\n",
      "h\n",
      "e\n",
      "a\n",
      "t\n",
      "f\n"
     ]
    }
   ],
   "source": [
    "for item in requirements_str:\n",
    "    print(item)"
   ]
  },
  {
   "cell_type": "code",
   "execution_count": 6,
   "id": "d09d1576-a81a-4de7-93f0-3788413ea2fb",
   "metadata": {
    "tags": []
   },
   "outputs": [],
   "source": [
    "requirements_new = requirements_str.split(\",\")"
   ]
  },
  {
   "cell_type": "code",
   "execution_count": 7,
   "id": "dee76d68-0395-4733-bf34-7366fcc5d371",
   "metadata": {
    "tags": []
   },
   "outputs": [
    {
     "data": {
      "text/plain": [
       "['bmif', 'heatf', 'bmiheatf']"
      ]
     },
     "execution_count": 7,
     "metadata": {},
     "output_type": "execute_result"
    }
   ],
   "source": [
    "requirements_new"
   ]
  },
  {
   "cell_type": "code",
   "execution_count": null,
   "id": "47ccfa20-25fd-4fe9-8e73-7e39fea3f1ab",
   "metadata": {},
   "outputs": [],
   "source": []
  }
 ],
 "metadata": {
  "kernelspec": {
   "display_name": "Python 3 (ipykernel)",
   "language": "python",
   "name": "python3"
  },
  "language_info": {
   "codemirror_mode": {
    "name": "ipython",
    "version": 3
   },
   "file_extension": ".py",
   "mimetype": "text/x-python",
   "name": "python",
   "nbconvert_exporter": "python",
   "pygments_lexer": "ipython3",
   "version": "3.9.9"
  }
 },
 "nbformat": 4,
 "nbformat_minor": 5
}
