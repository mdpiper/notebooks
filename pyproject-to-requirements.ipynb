{
 "cells": [
  {
   "cell_type": "markdown",
   "id": "9c92da98-97d5-4b5d-8f7e-8d916af70ab5",
   "metadata": {},
   "source": [
    "# pyproject to requirements"
   ]
  },
  {
   "cell_type": "markdown",
   "id": "bc0f35ef-e6e4-4a0f-9dd0-44479dcc4414",
   "metadata": {},
   "source": [
    "Read requirements from the `pyproject.toml` file and write them to requirements files."
   ]
  },
  {
   "cell_type": "code",
   "execution_count": 1,
   "id": "5e526ba8-f5ee-4bec-a908-3cc145e98c68",
   "metadata": {
    "tags": []
   },
   "outputs": [],
   "source": [
    "import os, tomllib"
   ]
  },
  {
   "cell_type": "code",
   "execution_count": 2,
   "id": "d74413db-c1bf-4aa9-8a02-43299b2563dc",
   "metadata": {
    "tags": []
   },
   "outputs": [],
   "source": [
    "pyproject_file = \"./projects/terrainbento/pyproject.toml\""
   ]
  },
  {
   "cell_type": "code",
   "execution_count": 3,
   "id": "7b3c7777-d8ec-432a-8af4-0ddc8309aeb3",
   "metadata": {
    "tags": []
   },
   "outputs": [
    {
     "name": "stdout",
     "output_type": "stream",
     "text": [
      "dask\n",
      "landlab >=2.6\n",
      "numpy >=1.20,<2\n",
      "pyyaml\n",
      "scipy\n",
      "xarray >= 0.16\n"
     ]
    }
   ],
   "source": [
    "with open(pyproject_file, \"rb\") as fp:\n",
    "    print(os.linesep.join(sorted(tomllib.load(fp)[\"project\"][\"dependencies\"])))"
   ]
  },
  {
   "cell_type": "code",
   "execution_count": 4,
   "id": "769cde36-f793-48b7-8c8b-078724e4ca36",
   "metadata": {
    "tags": []
   },
   "outputs": [
    {
     "name": "stdout",
     "output_type": "stream",
     "text": [
      "dask\n",
      "landlab >=2.6\n",
      "numpy >=1.20,<2\n",
      "pyyaml\n",
      "scipy\n",
      "xarray >= 0.16\n"
     ]
    }
   ],
   "source": [
    "with open(pyproject_file, \"rb\") as fp:\n",
    "    requirements = tomllib.load(fp)[\"project\"][\"dependencies\"]\n",
    "    print(os.linesep.join(sorted(requirements)))"
   ]
  },
  {
   "cell_type": "code",
   "execution_count": 5,
   "id": "b0b03060-97f4-450b-9bdb-d0f103d4b9cc",
   "metadata": {
    "tags": []
   },
   "outputs": [
    {
     "data": {
      "text/plain": [
       "['dask',\n",
       " 'landlab >=2.6',\n",
       " 'numpy >=1.20,<2',\n",
       " 'pyyaml',\n",
       " 'scipy',\n",
       " 'xarray >= 0.16']"
      ]
     },
     "execution_count": 5,
     "metadata": {},
     "output_type": "execute_result"
    }
   ],
   "source": [
    "requirements"
   ]
  },
  {
   "cell_type": "code",
   "execution_count": 6,
   "id": "855da1f1-2323-4945-9272-dd6b1ae70260",
   "metadata": {
    "tags": []
   },
   "outputs": [
    {
     "name": "stdout",
     "output_type": "stream",
     "text": [
      "build\n",
      "dev\n",
      "docs\n",
      "notebooks\n",
      "testing\n"
     ]
    }
   ],
   "source": [
    "with open(pyproject_file, \"rb\") as fp:\n",
    "    options = tomllib.load(fp)[\"project\"][\"optional-dependencies\"]\n",
    "    print(os.linesep.join(sorted(options)))"
   ]
  },
  {
   "cell_type": "code",
   "execution_count": 7,
   "id": "6211ae5a-585f-4fae-85fb-8c2eb607f175",
   "metadata": {
    "tags": []
   },
   "outputs": [
    {
     "data": {
      "text/plain": [
       "{'dev': ['nox'],\n",
       " 'build': ['build', 'twine', 'zest.releaser'],\n",
       " 'notebooks': ['matplotlib', 'holoviews', 'jupyter', 'pandas'],\n",
       " 'testing': ['coveralls', 'pytest', 'pytest-cov', 'pytest-datadir'],\n",
       " 'docs': ['sphinx', 'sphinx_rtd_theme']}"
      ]
     },
     "execution_count": 7,
     "metadata": {},
     "output_type": "execute_result"
    }
   ],
   "source": [
    "options"
   ]
  },
  {
   "cell_type": "code",
   "execution_count": 8,
   "id": "23ff02f6-eb2e-4c63-b7b4-dbf75f5ffa5d",
   "metadata": {
    "tags": []
   },
   "outputs": [
    {
     "name": "stdout",
     "output_type": "stream",
     "text": [
      "dev\n",
      "\t nox\n",
      "build\n",
      "\t build\n",
      "\t twine\n",
      "\t zest.releaser\n",
      "notebooks\n",
      "\t matplotlib\n",
      "\t holoviews\n",
      "\t jupyter\n",
      "\t pandas\n",
      "testing\n",
      "\t coveralls\n",
      "\t pytest\n",
      "\t pytest-cov\n",
      "\t pytest-datadir\n",
      "docs\n",
      "\t sphinx\n",
      "\t sphinx_rtd_theme\n"
     ]
    }
   ],
   "source": [
    "for k in options.keys():\n",
    "    print(k)\n",
    "    for v in options[k]:\n",
    "        print(\"\\t\", v)"
   ]
  },
  {
   "cell_type": "code",
   "execution_count": 9,
   "id": "93761adf-aebb-4219-a4e7-1b46f4cbb1fc",
   "metadata": {
    "tags": []
   },
   "outputs": [
    {
     "name": "stdout",
     "output_type": "stream",
     "text": [
      "['holoviews', 'jupyter', 'matplotlib', 'pandas']\n"
     ]
    }
   ],
   "source": [
    "print(sorted(options[\"notebooks\"]))"
   ]
  },
  {
   "cell_type": "code",
   "execution_count": 10,
   "id": "5f556ed8-8ba3-4459-942f-a45f234dceb2",
   "metadata": {
    "tags": []
   },
   "outputs": [
    {
     "name": "stdout",
     "output_type": "stream",
     "text": [
      "['matplotlib', 'holoviews', 'jupyter', 'pandas']\n"
     ]
    }
   ],
   "source": [
    "print(options[\"notebooks\"])"
   ]
  },
  {
   "cell_type": "code",
   "execution_count": 15,
   "id": "bcfbdee1-76fb-44e1-a9dc-f871ba3ecba8",
   "metadata": {
    "tags": []
   },
   "outputs": [
    {
     "name": "stdout",
     "output_type": "stream",
     "text": [
      "# requirements: dev\n",
      "nox\n",
      "\n",
      "\n",
      "# requirements: build\n",
      "build\n",
      "twine\n",
      "zest.releaser\n",
      "\n",
      "\n",
      "# requirements: notebooks\n",
      "holoviews\n",
      "jupyter\n",
      "matplotlib\n",
      "pandas\n",
      "\n",
      "\n",
      "# requirements: testing\n",
      "coveralls\n",
      "pytest\n",
      "pytest-cov\n",
      "pytest-datadir\n",
      "\n",
      "\n",
      "# requirements: docs\n",
      "sphinx\n",
      "sphinx_rtd_theme\n",
      "\n",
      "\n"
     ]
    }
   ],
   "source": [
    "for k in options.keys():\n",
    "    print(\"# requirements:\", k)\n",
    "    print(os.linesep.join(sorted(options[k])))\n",
    "    print(\"\\n\")"
   ]
  },
  {
   "cell_type": "code",
   "execution_count": 27,
   "id": "ae598a99-8171-48f2-abf9-e21aaa62678a",
   "metadata": {
    "tags": []
   },
   "outputs": [],
   "source": [
    "for extra in options.keys():\n",
    "    with open(f\"requirents-{extra}.txt\", \"w\") as fp:\n",
    "        fp.write(f\"# requirements: {extra}\\n\")\n",
    "        fp.write(f\"{os.linesep.join(sorted(options[extra]))}\\n\")"
   ]
  },
  {
   "cell_type": "code",
   "execution_count": 29,
   "id": "5bedb298-7dc1-423b-bf97-209bc71fbd38",
   "metadata": {},
   "outputs": [
    {
     "data": {
      "text/plain": [
       "\u001b[0;31mSignature:\u001b[0m \u001b[0mos\u001b[0m\u001b[0;34m.\u001b[0m\u001b[0mlinesep\u001b[0m\u001b[0;34m.\u001b[0m\u001b[0mjoin\u001b[0m\u001b[0;34m(\u001b[0m\u001b[0miterable\u001b[0m\u001b[0;34m,\u001b[0m \u001b[0;34m/\u001b[0m\u001b[0;34m)\u001b[0m\u001b[0;34m\u001b[0m\u001b[0;34m\u001b[0m\u001b[0m\n",
       "\u001b[0;31mDocstring:\u001b[0m\n",
       "Concatenate any number of strings.\n",
       "\n",
       "The string whose method is called is inserted in between each given string.\n",
       "The result is returned as a new string.\n",
       "\n",
       "Example: '.'.join(['ab', 'pq', 'rs']) -> 'ab.pq.rs'\n",
       "\u001b[0;31mType:\u001b[0m      builtin_function_or_method"
      ]
     },
     "metadata": {},
     "output_type": "display_data"
    }
   ],
   "source": [
    "os.linesep.join?"
   ]
  },
  {
   "cell_type": "code",
   "execution_count": null,
   "id": "2d4ace3d-731e-4d07-9ea6-739d47e69cda",
   "metadata": {},
   "outputs": [],
   "source": []
  }
 ],
 "metadata": {
  "kernelspec": {
   "display_name": "CSDMS",
   "language": "python",
   "name": "csdms"
  },
  "language_info": {
   "codemirror_mode": {
    "name": "ipython",
    "version": 3
   },
   "file_extension": ".py",
   "mimetype": "text/x-python",
   "name": "python",
   "nbconvert_exporter": "python",
   "pygments_lexer": "ipython3",
   "version": "3.11.7"
  }
 },
 "nbformat": 4,
 "nbformat_minor": 5
}
