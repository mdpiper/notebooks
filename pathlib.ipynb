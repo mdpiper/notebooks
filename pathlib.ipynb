{
 "cells": [
  {
   "cell_type": "markdown",
   "id": "e60c469e-d810-40d7-8d39-a9d0d66fbe3a",
   "metadata": {},
   "source": [
    "# Working with `pathlib`"
   ]
  },
  {
   "cell_type": "code",
   "execution_count": 1,
   "id": "fa44ba9c-a716-40aa-8b50-da467f898419",
   "metadata": {
    "tags": []
   },
   "outputs": [],
   "source": [
    "import os\n",
    "import pathlib\n",
    "import shutil"
   ]
  },
  {
   "cell_type": "code",
   "execution_count": null,
   "id": "b91f239a-2805-4a8e-81d3-90b328b185cc",
   "metadata": {
    "tags": []
   },
   "outputs": [],
   "source": [
    "HERE = pathlib.Path(\"piperformance.py\").absolute()\n",
    "ROOT = HERE.parent\n",
    "BUILD_DIR = ROOT / \"build\""
   ]
  },
  {
   "cell_type": "code",
   "execution_count": null,
   "id": "33e27ba6-03a0-4bb5-b00a-c01253f9dff1",
   "metadata": {
    "tags": []
   },
   "outputs": [],
   "source": [
    "HERE"
   ]
  },
  {
   "cell_type": "code",
   "execution_count": null,
   "id": "f0c8a906-8aed-4d81-91b6-3159ed6c1053",
   "metadata": {
    "tags": []
   },
   "outputs": [],
   "source": [
    "ROOT"
   ]
  },
  {
   "cell_type": "code",
   "execution_count": null,
   "id": "54848e0b-599a-4379-b649-00a7153e81c4",
   "metadata": {
    "tags": []
   },
   "outputs": [],
   "source": [
    "BUILD_DIR"
   ]
  },
  {
   "cell_type": "code",
   "execution_count": null,
   "id": "4de3410e-8420-4638-8d3c-3b279d83fb6b",
   "metadata": {
    "tags": []
   },
   "outputs": [],
   "source": [
    "# See https://stackoverflow.com/a/47572715\n",
    "d = f\"{BUILD_DIR}{os.sep}\""
   ]
  },
  {
   "cell_type": "code",
   "execution_count": null,
   "id": "b2d3ed82-94b3-4481-a999-a15e08987171",
   "metadata": {
    "tags": []
   },
   "outputs": [],
   "source": [
    "d"
   ]
  },
  {
   "cell_type": "code",
   "execution_count": null,
   "id": "9bc915ed-7a2a-4b67-b57c-5f4469c248a4",
   "metadata": {
    "tags": []
   },
   "outputs": [],
   "source": [
    "type(d)"
   ]
  },
  {
   "cell_type": "code",
   "execution_count": null,
   "id": "4f1b3fb6-cb21-4acb-bd10-624b42df9444",
   "metadata": {
    "tags": []
   },
   "outputs": [],
   "source": [
    "BUILD_DIR.is_absolute()"
   ]
  },
  {
   "cell_type": "code",
   "execution_count": null,
   "id": "aa463154-0050-4170-9193-067b3e77f279",
   "metadata": {
    "tags": []
   },
   "outputs": [],
   "source": [
    "pathlib.Path(d).is_absolute()"
   ]
  },
  {
   "cell_type": "markdown",
   "id": "687dd5e2-a7b0-4151-b16b-3b1403eee57d",
   "metadata": {},
   "source": [
    "Get a path to a file in a directory, given the directory."
   ]
  },
  {
   "cell_type": "code",
   "execution_count": 2,
   "id": "d7865f0b-fb0b-492d-820d-f43b2a4153c9",
   "metadata": {
    "tags": []
   },
   "outputs": [],
   "source": [
    "REPO_PATH = pathlib.Path(\"/opt/bmi-example-python\")"
   ]
  },
  {
   "cell_type": "code",
   "execution_count": 3,
   "id": "73732059-e3c6-4926-8cfa-f76f388f1aa2",
   "metadata": {
    "tags": []
   },
   "outputs": [],
   "source": [
    "CONFIG_FILE = REPO_PATH / \"examples\" / \"heat.yaml\""
   ]
  },
  {
   "cell_type": "code",
   "execution_count": 4,
   "id": "3b7a550e-fa41-4c35-9f74-0922e5d43b6a",
   "metadata": {
    "tags": []
   },
   "outputs": [
    {
     "data": {
      "text/plain": [
       "PosixPath('/opt/bmi-example-python/examples/heat.yaml')"
      ]
     },
     "execution_count": 4,
     "metadata": {},
     "output_type": "execute_result"
    }
   ],
   "source": [
    "CONFIG_FILE"
   ]
  },
  {
   "cell_type": "code",
   "execution_count": 5,
   "id": "9236140a-a222-4e60-8b9d-cabb29d2e597",
   "metadata": {
    "tags": []
   },
   "outputs": [
    {
     "name": "stdout",
     "output_type": "stream",
     "text": [
      "/opt/bmi-example-python/examples/heat.yaml\n"
     ]
    }
   ],
   "source": [
    "print(CONFIG_FILE)"
   ]
  },
  {
   "cell_type": "code",
   "execution_count": null,
   "id": "4fd7298c-b7e7-44ee-8751-425d9f4d717c",
   "metadata": {},
   "outputs": [],
   "source": []
  }
 ],
 "metadata": {
  "kernelspec": {
   "display_name": "Python 3 (ipykernel)",
   "language": "python",
   "name": "python3"
  },
  "language_info": {
   "codemirror_mode": {
    "name": "ipython",
    "version": 3
   },
   "file_extension": ".py",
   "mimetype": "text/x-python",
   "name": "python",
   "nbconvert_exporter": "python",
   "pygments_lexer": "ipython3",
   "version": "3.9.9"
  }
 },
 "nbformat": 4,
 "nbformat_minor": 5
}
