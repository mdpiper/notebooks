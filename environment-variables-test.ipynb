{
 "cells": [
  {
   "cell_type": "markdown",
   "id": "be8c0c74-a352-46be-b83c-fba94de5ce2f",
   "metadata": {},
   "source": [
    "# Environment variables test"
   ]
  },
  {
   "cell_type": "code",
   "execution_count": 1,
   "id": "9a7cf5c8-12fb-4636-92df-9d06864a1077",
   "metadata": {
    "tags": []
   },
   "outputs": [
    {
     "name": "stdout",
     "output_type": "stream",
     "text": [
      "SHELL=/bin/bash\n",
      "JUPYTERHUB_API_TOKEN=d44c438171254012bb69f3faf799dab4\n",
      "JUPYTERHUB_BASE_URL=/\n",
      "MEM_LIMIT=6979321856\n",
      "PWD=/home/jupyter-mpiper\n",
      "LOGNAME=jupyter-mpiper\n",
      "JUPYTERHUB_SERVER_NAME=\n",
      "HOME=/home/jupyter-mpiper\n",
      "LANG=C.UTF-8\n",
      "JPY_API_TOKEN=d44c438171254012bb69f3faf799dab4\n",
      "FORCE_COLOR=1\n",
      "JUPYTERHUB_SERVICE_PREFIX=/user/mpiper/\n",
      "PYDEVD_USE_FRAME_EVAL=NO\n",
      "JUPYTERHUB_OAUTH_CALLBACK_URL=/user/mpiper/oauth_callback\n",
      "CLICOLOR=1\n",
      "INVOCATION_ID=e8c7031c7cf24678ba1ac6b4fb5b69c0\n",
      "CLICOLOR_FORCE=1\n",
      "RUNTIME_DIRECTORY=/run/jupyter-mpiper\n",
      "JPY_PARENT_PID=195632\n",
      "TERM=xterm-color\n",
      "USER=jupyter-mpiper\n",
      "GIT_PAGER=cat\n",
      "SHLVL=0\n",
      "PAGER=cat\n",
      "JUPYTERHUB_API_URL=http://127.0.0.1:15001/hub/api\n",
      "JUPYTERHUB_CLIENT_ID=jupyterhub-user-mpiper\n",
      "JUPYTERHUB_HOST=\n",
      "MPLBACKEND=module://matplotlib_inline.backend_inline\n",
      "CPU_LIMIT=2.0\n",
      "JOURNAL_STREAM=8:1488609\n",
      "PATH=/opt/tljh/user/bin:/usr/local/sbin:/usr/local/bin:/usr/sbin:/usr/bin:/sbin:/bin:/snap/bin\n",
      "JUPYTERHUB_USER=mpiper\n",
      "JUPYTERHUB_ACTIVITY_URL=http://127.0.0.1:15001/hub/api/users/mpiper/activity\n",
      "TEST=blah\n",
      "OLDPWD=/\n",
      "_=/usr/bin/env\n"
     ]
    }
   ],
   "source": [
    "!env"
   ]
  },
  {
   "cell_type": "code",
   "execution_count": 2,
   "id": "29026b41-6136-41b3-bcfd-a65cb4257f45",
   "metadata": {
    "tags": []
   },
   "outputs": [],
   "source": [
    "import os"
   ]
  },
  {
   "cell_type": "code",
   "execution_count": 3,
   "id": "bd8ceac1-efcd-463a-be0f-e83dd7c39b78",
   "metadata": {
    "tags": []
   },
   "outputs": [
    {
     "data": {
      "text/plain": [
       "'blah'"
      ]
     },
     "execution_count": 3,
     "metadata": {},
     "output_type": "execute_result"
    }
   ],
   "source": [
    "os.environ[\"TEST\"]"
   ]
  },
  {
   "cell_type": "code",
   "execution_count": 4,
   "id": "fca1c3fa-5095-4b3c-8e6d-28deb3f56ed7",
   "metadata": {
    "tags": []
   },
   "outputs": [
    {
     "ename": "KeyError",
     "evalue": "'OES_HUB'",
     "output_type": "error",
     "traceback": [
      "\u001b[0;31m---------------------------------------------------------------------------\u001b[0m",
      "\u001b[0;31mKeyError\u001b[0m                                  Traceback (most recent call last)",
      "Cell \u001b[0;32mIn[4], line 1\u001b[0m\n\u001b[0;32m----> 1\u001b[0m \u001b[43mos\u001b[49m\u001b[38;5;241;43m.\u001b[39;49m\u001b[43menviron\u001b[49m\u001b[43m[\u001b[49m\u001b[38;5;124;43m\"\u001b[39;49m\u001b[38;5;124;43mOES_HUB\u001b[39;49m\u001b[38;5;124;43m\"\u001b[39;49m\u001b[43m]\u001b[49m\n",
      "File \u001b[0;32m<frozen os>:679\u001b[0m, in \u001b[0;36m__getitem__\u001b[0;34m(self, key)\u001b[0m\n",
      "\u001b[0;31mKeyError\u001b[0m: 'OES_HUB'"
     ]
    }
   ],
   "source": [
    "os.environ[\"OES_HUB\"]"
   ]
  },
  {
   "cell_type": "code",
   "execution_count": null,
   "id": "f7f38dde-9da8-46e0-a39e-284c7293ce2e",
   "metadata": {},
   "outputs": [],
   "source": []
  }
 ],
 "metadata": {
  "kernelspec": {
   "display_name": "CSDMS",
   "language": "python",
   "name": "csdms"
  },
  "language_info": {
   "codemirror_mode": {
    "name": "ipython",
    "version": 3
   },
   "file_extension": ".py",
   "mimetype": "text/x-python",
   "name": "python",
   "nbconvert_exporter": "python",
   "pygments_lexer": "ipython3",
   "version": "3.11.7"
  }
 },
 "nbformat": 4,
 "nbformat_minor": 5
}
